{
 "cells": [
  {
   "cell_type": "code",
   "execution_count": 30,
   "metadata": {},
   "outputs": [],
   "source": [
    "import pandas as pd"
   ]
  },
  {
   "cell_type": "code",
   "execution_count": 31,
   "metadata": {},
   "outputs": [
    {
     "data": {
      "text/plain": [
       "Index(['Date', 'OPEN INTEREST', 'VOLUME', 'CONTRACT (YYYY/MM).NEARBY',\n",
       "       'HIGH.NEARBY', 'LOW.NEARBY', 'Price', 'OPEN INTEREST.NEARBY',\n",
       "       'VOLUME.NEARBY', 'CONTRACT (YYYY/MM).2', 'HIGH.2', 'LOW.2', 'CLOSE.2',\n",
       "       'OPEN INTEREST.2', 'VOLUME.2', 'CONTRACT (YYYY/MM).3', 'HIGH.3',\n",
       "       'LOW.3', 'CLOSE.3', 'OPEN INTEREST.3', 'VOLUME.3',\n",
       "       'CONTRACT (YYYY/MM).4', 'HIGH.4', 'LOW.4', 'CLOSE.4', 'OPEN INTEREST.4',\n",
       "       'VOLUME.4', 'CONTRACT (YYYY/MM).5', 'HIGH.5', 'LOW.5', 'CLOSE.5',\n",
       "       'OPEN INTEREST.5', 'VOLUME.5', 'AVG IMPLIED VOLATILITY',\n",
       "       '30-DAY HISTORICAL VOLATILITY'],\n",
       "      dtype='object')"
      ]
     },
     "execution_count": 31,
     "metadata": {},
     "output_type": "execute_result"
    }
   ],
   "source": [
    "model_df = pd.read_csv(\"backtest_data/Final_Predicted_Prices.csv\")\n",
    "price_df = pd.read_csv(\"backtest_data/price_data.csv\")\n",
    "model_df.describe().T\n",
    "model_df[\"Date\"] = pd.to_datetime(model_df[\"Date\"])\n",
    "price_df.rename(columns={\"DATE\": \"Date\", \"CLOSE.NEARBY\": \"Price\"}, inplace=True)\n",
    "price_df[\"Date\"] = pd.to_datetime(price_df[\"Date\"])\n",
    "price_df.columns"
   ]
  },
  {
   "cell_type": "code",
   "execution_count": null,
   "metadata": {},
   "outputs": [],
   "source": [
    "model_df = model_df.sort_values(\"Date\")\n",
    "price_df = price_df.sort_values(\"Date\")\n",
    "\n",
    "# Perform asof merge to match each model_df Date with the closest available price_df Date\n",
    "merged_df = pd.merge_asof(model_df, price_df[['Date', 'Price']], on=\"Date\", direction=\"nearest\")\n",
    "\n",
    "merged_df.describe().T"
   ]
  },
  {
   "cell_type": "code",
   "execution_count": null,
   "metadata": {},
   "outputs": [],
   "source": [
    "# Keep only the desired columns\n",
    "merged_df = merged_df[['Date', 'Predicted Close Price', 'Price']]\n",
    "\n",
    "import matplotlib.pyplot as plt\n",
    "\n",
    "# Ensure Date is the datetime type (if not already)\n",
    "merged_df[\"Date\"] = pd.to_datetime(merged_df[\"Date\"])\n",
    "\n",
    "plt.figure(figsize=(12, 6))\n",
    "\n",
    "# Plot actual price\n",
    "plt.plot(merged_df[\"Date\"], merged_df[\"Price\"], label=\"Price\", color='blue', marker='o', linestyle='-')\n",
    "\n",
    "# Plot predicted close price\n",
    "plt.plot(merged_df[\"Date\"], merged_df[\"Predicted Close Price\"], label=\"Predicted Close Price\", color='red', marker='x', linestyle='-')\n",
    "\n",
    "plt.xlabel(\"Date\")\n",
    "plt.ylabel(\"Price\")\n",
    "plt.title(\"Price vs. Predicted Close Price Over Time\")\n",
    "plt.legend()\n",
    "plt.xticks(rotation=45)  # Rotate x-axis labels for better readability\n",
    "plt.tight_layout()      # Adjust layout to prevent clipping of labels\n",
    "plt.show()\n"
   ]
  }
 ],
 "metadata": {
  "kernelspec": {
   "display_name": "base",
   "language": "python",
   "name": "python3"
  },
  "language_info": {
   "codemirror_mode": {
    "name": "ipython",
    "version": 3
   },
   "file_extension": ".py",
   "mimetype": "text/x-python",
   "name": "python",
   "nbconvert_exporter": "python",
   "pygments_lexer": "ipython3",
   "version": "3.11.7"
  }
 },
 "nbformat": 4,
 "nbformat_minor": 2
}
